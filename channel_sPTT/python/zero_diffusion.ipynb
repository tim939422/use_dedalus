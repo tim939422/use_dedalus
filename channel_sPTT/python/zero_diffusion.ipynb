{
 "cells": [
  {
   "cell_type": "code",
   "execution_count": 1,
   "id": "5d6795c2",
   "metadata": {},
   "outputs": [],
   "source": [
    "import numpy as np\n",
    "import matplotlib.pyplot as plt\n",
    "import dedalus.public as d3"
   ]
  },
  {
   "cell_type": "code",
   "execution_count": 2,
   "id": "c49ddaa9",
   "metadata": {},
   "outputs": [
    {
     "name": "stdout",
     "output_type": "stream",
     "text": [
      "2025-04-15 18:52:32,314 subsystems 0/1 INFO :: Building subproblem matrices 1/1 (~100%) Elapsed: 0s, Remaining: 0s, Rate: 1.9e+01/s\n"
     ]
    }
   ],
   "source": [
    "# Parameters\n",
    "Ny = 1024\n",
    "dtype = np.float64\n",
    "beta = 0.8\n",
    "Wi = 80.0\n",
    "epsilon = 1e-3\n",
    "kappa = 5e-5\n",
    "\n",
    "# Bases\n",
    "ycoord = d3.Coordinate('y')\n",
    "dist = d3.Distributor(ycoord, dtype=dtype)\n",
    "basis = d3.Chebyshev(ycoord, size=Ny, bounds=(-1, 1))\n",
    "\n",
    "# Fields\n",
    "U = dist.Field(name='U', bases=basis)\n",
    "a_xx = dist.Field(name='a_xx', bases=basis)\n",
    "a_xy = dist.Field(name='a_xy', bases=basis)\n",
    "tau_u1 = dist.Field(name='tau_u1'); tau_a_xx1 = dist.Field(name=\"tau_a_xx1\");  tau_a_xy1 = dist.Field(name=\"tau_a_xy1\") # z = -1\n",
    "tau_u2 = dist.Field(name='tau_u2'); tau_a_xx2 = dist.Field(name=\"tau_a_xx2\");  tau_a_xy2 = dist.Field(name=\"tau_a_xy2\") # z = +1\n",
    "\n",
    "\n",
    "# Substitutions\n",
    "y = dist.local_grid(basis)\n",
    "\n",
    "# boundary condition and hyperbolic solution of conformation tensor\n",
    "A = 1/(6*beta*epsilon); B = Wi/(2*beta*epsilon)\n",
    "Fm = lambda y: np.cbrt(-B*y - np.sqrt(A**3 + (B*y)**2))\n",
    "Fp = lambda y: np.cbrt(-B*y + np.sqrt(A**3 + (B*y)**2))\n",
    "a_xy['g'] = Fm(y) + Fp(y)\n",
    "a_xx['g'] = 2*(a_xy['g'])**2 + 1\n",
    "a_xy_lower = Fm(-1) + Fp(-1); a_xx_lower = 2*a_xy_lower**2 + 1\n",
    "a_xy_upper = Fm( 1) + Fp( 1); a_xx_upper = 2*a_xy_upper**2 + 1\n",
    "\n",
    "# differential operator and tau terms\n",
    "dy = lambda A: d3.Differentiate(A, ycoord)\n",
    "da_xy = dy(a_xy)\n",
    "lift_basis = basis.derivative_basis(2)\n",
    "lift = lambda A, n: d3.Lift(A, lift_basis, n)\n",
    "\n",
    "# Problem\n",
    "hyperbolic_problem = d3.LBVP([U, tau_u1, tau_u2], namespace=locals())\n",
    "hyperbolic_problem.add_equation(\"dy(dy(U)) + lift(tau_u1, -1) + lift(tau_u2, -2) = -2/beta - (1 - beta)/(beta*Wi)*da_xy\")\n",
    "hyperbolic_problem.add_equation(\"U(y=-1) = 0\")\n",
    "hyperbolic_problem.add_equation(\"U(y=1) = 0\")\n",
    "\n",
    "# Solve the hyperbolic problem for Ulam profile with kappa = 0\n",
    "solver = hyperbolic_problem.build_solver()\n",
    "solver.solve()"
   ]
  },
  {
   "cell_type": "code",
   "execution_count": null,
   "id": "8709f98b",
   "metadata": {},
   "outputs": [
    {
     "data": {
      "text/plain": [
       "[<matplotlib.lines.Line2D at 0x13ec2f390>]"
      ]
     },
     "execution_count": 3,
     "metadata": {},
     "output_type": "execute_result"
    },
    {
     "data": {
      "image/png": "[encoded data removed]",
      "text/plain": [
       "<Figure size 640x480 with 1 Axes>"
      ]
     },
     "metadata": {},
     "output_type": "display_data"
    }
   ],
   "source": [
    "data_ref = np.loadtxt('prl_2022_Morozov_Fig2b.txt')\n",
    "fig, ax = plt.subplots()\n",
    "ax.plot(data_ref[:, 0], data_ref[:, 1], 'ko')\n",
    "U.change_scales(1)\n",
    "ax.plot()"
   ]
  }
 ],
 "metadata": {
  "kernelspec": {
   "display_name": "dedalus3",
   "language": "python",
   "name": "python3"
  },
  "language_info": {
   "codemirror_mode": {
    "name": "ipython",
    "version": 3
   },
   "file_extension": ".py",
   "mimetype": "text/x-python",
   "name": "python",
   "nbconvert_exporter": "python",
   "pygments_lexer": "ipython3",
   "version": "3.13.2"
  }
 },
 "nbformat": 4,
 "nbformat_minor": 5
}
